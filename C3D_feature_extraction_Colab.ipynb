{
  "nbformat": 4,
  "nbformat_minor": 0,
  "metadata": {
    "colab": {
      "name": "C3D_feature_extraction_Colab.ipynb",
      "version": "0.3.2",
      "provenance": [],
      "collapsed_sections": [],
      "include_colab_link": true
    },
    "kernelspec": {
      "name": "python3",
      "display_name": "Python 3"
    },
    "accelerator": "GPU"
  },
  "cells": [
    {
      "cell_type": "markdown",
      "metadata": {
        "id": "view-in-github",
        "colab_type": "text"
      },
      "source": [
        "<a href=\"https://colab.research.google.com/github/junaid-khalid/test/blob/master/C3D_feature_extraction_Colab.ipynb\" target=\"_parent\"><img src=\"https://colab.research.google.com/assets/colab-badge.svg\" alt=\"Open In Colab\"/></a>"
      ]
    },
    {
      "cell_type": "markdown",
      "metadata": {
        "id": "oPTjmrEPqnZz",
        "colab_type": "text"
      },
      "source": [
        " **Connect Google Drive.**"
      ]
    },
    {
      "cell_type": "code",
      "metadata": {
        "id": "yiyseveba-Wj",
        "colab_type": "code",
        "outputId": "49552226-f829-453e-cc6a-1ac3aff80c15",
        "colab": {
          "base_uri": "https://localhost:8080/",
          "height": 121
        }
      },
      "source": [
        "##### required\n",
        "from google.colab import drive\n",
        "drive.mount('/content/drive/')"
      ],
      "execution_count": 3,
      "outputs": [
        {
          "output_type": "stream",
          "text": [
            "Go to this URL in a browser: https://accounts.google.com/o/oauth2/auth?client_id=947318989803-6bn6qk8qdgf4n4g3pfee6491hc0brc4i.apps.googleusercontent.com&redirect_uri=urn%3Aietf%3Awg%3Aoauth%3A2.0%3Aoob&scope=email%20https%3A%2F%2Fwww.googleapis.com%2Fauth%2Fdocs.test%20https%3A%2F%2Fwww.googleapis.com%2Fauth%2Fdrive%20https%3A%2F%2Fwww.googleapis.com%2Fauth%2Fdrive.photos.readonly%20https%3A%2F%2Fwww.googleapis.com%2Fauth%2Fpeopleapi.readonly&response_type=code\n",
            "\n",
            "Enter your authorization code:\n",
            "··········\n",
            "Mounted at /content/drive/\n"
          ],
          "name": "stdout"
        }
      ]
    },
    {
      "cell_type": "markdown",
      "metadata": {
        "id": "Pxr-KDakq98p",
        "colab_type": "text"
      },
      "source": [
        "**Setup C3D model**"
      ]
    },
    {
      "cell_type": "code",
      "metadata": {
        "id": "IyIJMikImm7f",
        "colab_type": "code",
        "outputId": "1ca87036-37dc-4c12-e6a8-475861b4a196",
        "colab": {
          "base_uri": "https://localhost:8080/",
          "height": 34
        }
      },
      "source": [
        "cd /content/drive/My\\ Drive/"
      ],
      "execution_count": 4,
      "outputs": [
        {
          "output_type": "stream",
          "text": [
            "/content/drive/My Drive\n"
          ],
          "name": "stdout"
        }
      ]
    },
    {
      "cell_type": "code",
      "metadata": {
        "id": "mtPHsiaWmnlX",
        "colab_type": "code",
        "outputId": "8c167f76-04f2-433d-fe2d-36249ac67d4e",
        "colab": {
          "base_uri": "https://localhost:8080/",
          "height": 34
        }
      },
      "source": [
        "!git clone https://github.com/facebook/C3D.git"
      ],
      "execution_count": 5,
      "outputs": [
        {
          "output_type": "stream",
          "text": [
            "fatal: destination path 'C3D' already exists and is not an empty directory.\n"
          ],
          "name": "stdout"
        }
      ]
    },
    {
      "cell_type": "code",
      "metadata": {
        "id": "FaxQKGiGmt60",
        "colab_type": "code",
        "outputId": "440cc3c6-b14d-420a-b7d6-aeb9c96f1e97",
        "colab": {
          "base_uri": "https://localhost:8080/",
          "height": 34
        }
      },
      "source": [
        "cd C3D/C3D-v1.0/"
      ],
      "execution_count": 6,
      "outputs": [
        {
          "output_type": "stream",
          "text": [
            "/content/drive/My Drive/C3D/C3D-v1.0\n"
          ],
          "name": "stdout"
        }
      ]
    },
    {
      "cell_type": "code",
      "metadata": {
        "id": "rmHJ2XiRmz6I",
        "colab_type": "code",
        "colab": {}
      },
      "source": [
        "#upload \"Makefile.config\" from \"\"  at \"/content/drive/My\\ Drive/C3D/C3D-v1.0/\""
      ],
      "execution_count": 0,
      "outputs": []
    },
    {
      "cell_type": "code",
      "metadata": {
        "id": "I9Wm_jwTCcrD",
        "colab_type": "code",
        "outputId": "347dc69e-85e3-4005-fe43-480a722509ae",
        "colab": {
          "base_uri": "https://localhost:8080/",
          "height": 34
        }
      },
      "source": [
        "cd /content/drive/My\\ Drive/C3D/C3D-v1.0/python/"
      ],
      "execution_count": 8,
      "outputs": [
        {
          "output_type": "stream",
          "text": [
            "/content/drive/My Drive/C3D/C3D-v1.0/python\n"
          ],
          "name": "stdout"
        }
      ]
    },
    {
      "cell_type": "code",
      "metadata": {
        "id": "IkfyhAcZgHXa",
        "colab_type": "code",
        "outputId": "50b14dda-058d-4e79-92bb-3b871df13747",
        "colab": {
          "base_uri": "https://localhost:8080/",
          "height": 857
        }
      },
      "source": [
        "##### required\n",
        "!pip install -r requirements.txt"
      ],
      "execution_count": 9,
      "outputs": [
        {
          "output_type": "stream",
          "text": [
            "Requirement already satisfied: Cython>=0.19.2 in /usr/local/lib/python3.6/dist-packages (from -r requirements.txt (line 1)) (0.29.13)\n",
            "Requirement already satisfied: h5py>=2.2.0 in /usr/local/lib/python3.6/dist-packages (from -r requirements.txt (line 2)) (2.8.0)\n",
            "Requirement already satisfied: ipython>=1.1.0 in /usr/local/lib/python3.6/dist-packages (from -r requirements.txt (line 3)) (5.5.0)\n",
            "Collecting leveldb>=0.191 (from -r requirements.txt (line 4))\n",
            "\u001b[?25l  Downloading https://files.pythonhosted.org/packages/ec/c1/ca3b4199bd4073e6430076f1edd8061f2f548e831eeddc3cbc077ebaa0ca/leveldb-0.194.tar.gz (228kB)\n",
            "\u001b[K     |████████████████████████████████| 235kB 9.0MB/s \n",
            "\u001b[?25hRequirement already satisfied: matplotlib>=1.3.1 in /usr/local/lib/python3.6/dist-packages (from -r requirements.txt (line 5)) (3.0.3)\n",
            "Requirement already satisfied: networkx>=1.8.1 in /usr/local/lib/python3.6/dist-packages (from -r requirements.txt (line 6)) (2.3)\n",
            "Requirement already satisfied: nose>=1.3.0 in /usr/local/lib/python3.6/dist-packages (from -r requirements.txt (line 7)) (1.3.7)\n",
            "Requirement already satisfied: numpy>=1.7.1 in /usr/local/lib/python3.6/dist-packages (from -r requirements.txt (line 8)) (1.16.4)\n",
            "Requirement already satisfied: pandas>=0.12.0 in /usr/local/lib/python3.6/dist-packages (from -r requirements.txt (line 9)) (0.24.2)\n",
            "Requirement already satisfied: protobuf>=2.5.0 in /usr/local/lib/python3.6/dist-packages (from -r requirements.txt (line 10)) (3.7.1)\n",
            "Collecting python-gflags>=2.0 (from -r requirements.txt (line 11))\n",
            "\u001b[?25l  Downloading https://files.pythonhosted.org/packages/df/ec/e31302d355bcb9d207d9b858adc1ecc4a6d8c855730c8ba4ddbdd3f8eb8d/python-gflags-3.1.2.tar.gz (52kB)\n",
            "\u001b[K     |████████████████████████████████| 61kB 20.3MB/s \n",
            "\u001b[?25hRequirement already satisfied: scikit-image>=0.9.3 in /usr/local/lib/python3.6/dist-packages (from -r requirements.txt (line 12)) (0.15.0)\n",
            "Requirement already satisfied: scikit-learn>=0.14.1 in /usr/local/lib/python3.6/dist-packages (from -r requirements.txt (line 13)) (0.21.3)\n",
            "Requirement already satisfied: scipy>=0.13.2 in /usr/local/lib/python3.6/dist-packages (from -r requirements.txt (line 14)) (1.3.1)\n",
            "Requirement already satisfied: six in /usr/local/lib/python3.6/dist-packages (from h5py>=2.2.0->-r requirements.txt (line 2)) (1.12.0)\n",
            "Requirement already satisfied: traitlets>=4.2 in /usr/local/lib/python3.6/dist-packages (from ipython>=1.1.0->-r requirements.txt (line 3)) (4.3.2)\n",
            "Requirement already satisfied: simplegeneric>0.8 in /usr/local/lib/python3.6/dist-packages (from ipython>=1.1.0->-r requirements.txt (line 3)) (0.8.1)\n",
            "Requirement already satisfied: prompt-toolkit<2.0.0,>=1.0.4 in /usr/local/lib/python3.6/dist-packages (from ipython>=1.1.0->-r requirements.txt (line 3)) (1.0.16)\n",
            "Requirement already satisfied: pickleshare in /usr/local/lib/python3.6/dist-packages (from ipython>=1.1.0->-r requirements.txt (line 3)) (0.7.5)\n",
            "Requirement already satisfied: setuptools>=18.5 in /usr/local/lib/python3.6/dist-packages (from ipython>=1.1.0->-r requirements.txt (line 3)) (41.0.1)\n",
            "Requirement already satisfied: pygments in /usr/local/lib/python3.6/dist-packages (from ipython>=1.1.0->-r requirements.txt (line 3)) (2.1.3)\n",
            "Requirement already satisfied: decorator in /usr/local/lib/python3.6/dist-packages (from ipython>=1.1.0->-r requirements.txt (line 3)) (4.4.0)\n",
            "Requirement already satisfied: pexpect; sys_platform != \"win32\" in /usr/local/lib/python3.6/dist-packages (from ipython>=1.1.0->-r requirements.txt (line 3)) (4.7.0)\n",
            "Requirement already satisfied: cycler>=0.10 in /usr/local/lib/python3.6/dist-packages (from matplotlib>=1.3.1->-r requirements.txt (line 5)) (0.10.0)\n",
            "Requirement already satisfied: kiwisolver>=1.0.1 in /usr/local/lib/python3.6/dist-packages (from matplotlib>=1.3.1->-r requirements.txt (line 5)) (1.1.0)\n",
            "Requirement already satisfied: pyparsing!=2.0.4,!=2.1.2,!=2.1.6,>=2.0.1 in /usr/local/lib/python3.6/dist-packages (from matplotlib>=1.3.1->-r requirements.txt (line 5)) (2.4.2)\n",
            "Requirement already satisfied: python-dateutil>=2.1 in /usr/local/lib/python3.6/dist-packages (from matplotlib>=1.3.1->-r requirements.txt (line 5)) (2.5.3)\n",
            "Requirement already satisfied: pytz>=2011k in /usr/local/lib/python3.6/dist-packages (from pandas>=0.12.0->-r requirements.txt (line 9)) (2018.9)\n",
            "Requirement already satisfied: pillow>=4.3.0 in /usr/local/lib/python3.6/dist-packages (from scikit-image>=0.9.3->-r requirements.txt (line 12)) (4.3.0)\n",
            "Requirement already satisfied: PyWavelets>=0.4.0 in /usr/local/lib/python3.6/dist-packages (from scikit-image>=0.9.3->-r requirements.txt (line 12)) (1.0.3)\n",
            "Requirement already satisfied: imageio>=2.0.1 in /usr/local/lib/python3.6/dist-packages (from scikit-image>=0.9.3->-r requirements.txt (line 12)) (2.4.1)\n",
            "Requirement already satisfied: joblib>=0.11 in /usr/local/lib/python3.6/dist-packages (from scikit-learn>=0.14.1->-r requirements.txt (line 13)) (0.13.2)\n",
            "Requirement already satisfied: ipython-genutils in /usr/local/lib/python3.6/dist-packages (from traitlets>=4.2->ipython>=1.1.0->-r requirements.txt (line 3)) (0.2.0)\n",
            "Requirement already satisfied: wcwidth in /usr/local/lib/python3.6/dist-packages (from prompt-toolkit<2.0.0,>=1.0.4->ipython>=1.1.0->-r requirements.txt (line 3)) (0.1.7)\n",
            "Requirement already satisfied: ptyprocess>=0.5 in /usr/local/lib/python3.6/dist-packages (from pexpect; sys_platform != \"win32\"->ipython>=1.1.0->-r requirements.txt (line 3)) (0.6.0)\n",
            "Requirement already satisfied: olefile in /usr/local/lib/python3.6/dist-packages (from pillow>=4.3.0->scikit-image>=0.9.3->-r requirements.txt (line 12)) (0.46)\n",
            "Building wheels for collected packages: leveldb, python-gflags\n",
            "  Building wheel for leveldb (setup.py) ... \u001b[?25l\u001b[?25hdone\n",
            "  Created wheel for leveldb: filename=leveldb-0.194-cp36-cp36m-linux_x86_64.whl size=1601723 sha256=5fd963e3eb8fa3f01219036b0c22ed885c47e8ca1f823e30fda842bbdd292804\n",
            "  Stored in directory: /root/.cache/pip/wheels/ca/ba/b7/1e36830c755c2bacf708c8dbc9d8c163c9fa347263c106e0fd\n",
            "  Building wheel for python-gflags (setup.py) ... \u001b[?25l\u001b[?25hdone\n",
            "  Created wheel for python-gflags: filename=python_gflags-3.1.2-cp36-none-any.whl size=57367 sha256=aed7f3bce42c18f7333726c0d049ce22278551352ace9b3cff57f079af37627a\n",
            "  Stored in directory: /root/.cache/pip/wheels/ef/ee/0e/63b3049d40b223fe2d177a18acff993ac5e491e66a1744c3b6\n",
            "Successfully built leveldb python-gflags\n",
            "Installing collected packages: leveldb, python-gflags\n",
            "Successfully installed leveldb-0.194 python-gflags-3.1.2\n"
          ],
          "name": "stdout"
        }
      ]
    },
    {
      "cell_type": "code",
      "metadata": {
        "id": "-pzl5mVzgR5K",
        "colab_type": "code",
        "outputId": "9d39f7cc-5e89-4163-b0ee-928ba0d84c1c",
        "colab": {
          "base_uri": "https://localhost:8080/",
          "height": 974
        }
      },
      "source": [
        "##### required\n",
        "!sudo apt-get install libprotobuf-dev libleveldb-dev libsnappy-dev libopencv-dev libboost-all-dev libhdf5-serial-dev"
      ],
      "execution_count": 10,
      "outputs": [
        {
          "output_type": "stream",
          "text": [
            "Reading package lists... Done\n",
            "Building dependency tree       \n",
            "Reading state information... Done\n",
            "libboost-all-dev is already the newest version (1.65.1.0ubuntu1).\n",
            "libopencv-dev is already the newest version (3.2.0+dfsg-4ubuntu0.1).\n",
            "The following package was automatically installed and is no longer required:\n",
            "  libnvidia-common-410\n",
            "Use 'sudo apt autoremove' to remove it.\n",
            "Suggested packages:\n",
            "  leveldb-doc\n",
            "The following NEW packages will be installed:\n",
            "  libhdf5-serial-dev libleveldb-dev libleveldb1v5 libprotobuf-dev\n",
            "  libprotobuf-lite10 libsnappy-dev\n",
            "0 upgraded, 6 newly installed, 0 to remove and 4 not upgraded.\n",
            "Need to get 1,400 kB of archives.\n",
            "After this operation, 9,964 kB of additional disk space will be used.\n",
            "Get:1 http://archive.ubuntu.com/ubuntu bionic/universe amd64 libhdf5-serial-dev all 1.10.0-patch1+docs-4 [2,898 B]\n",
            "Get:2 http://archive.ubuntu.com/ubuntu bionic/main amd64 libleveldb1v5 amd64 1.20-2 [136 kB]\n",
            "Get:3 http://archive.ubuntu.com/ubuntu bionic/main amd64 libleveldb-dev amd64 1.20-2 [177 kB]\n",
            "Get:4 http://archive.ubuntu.com/ubuntu bionic/main amd64 libprotobuf-lite10 amd64 3.0.0-9.1ubuntu1 [97.7 kB]\n",
            "Get:5 http://archive.ubuntu.com/ubuntu bionic/main amd64 libprotobuf-dev amd64 3.0.0-9.1ubuntu1 [959 kB]\n",
            "Get:6 http://archive.ubuntu.com/ubuntu bionic/main amd64 libsnappy-dev amd64 1.1.7-1 [27.2 kB]\n",
            "Fetched 1,400 kB in 0s (11.3 MB/s)\n",
            "debconf: unable to initialize frontend: Dialog\n",
            "debconf: (No usable dialog-like program is installed, so the dialog based frontend cannot be used. at /usr/share/perl5/Debconf/FrontEnd/Dialog.pm line 76, <> line 6.)\n",
            "debconf: falling back to frontend: Readline\n",
            "debconf: unable to initialize frontend: Readline\n",
            "debconf: (This frontend requires a controlling tty.)\n",
            "debconf: falling back to frontend: Teletype\n",
            "dpkg-preconfigure: unable to re-open stdin: \n",
            "Selecting previously unselected package libhdf5-serial-dev.\n",
            "(Reading database ... 131289 files and directories currently installed.)\n",
            "Preparing to unpack .../0-libhdf5-serial-dev_1.10.0-patch1+docs-4_all.deb ...\n",
            "Unpacking libhdf5-serial-dev (1.10.0-patch1+docs-4) ...\n",
            "Selecting previously unselected package libleveldb1v5:amd64.\n",
            "Preparing to unpack .../1-libleveldb1v5_1.20-2_amd64.deb ...\n",
            "Unpacking libleveldb1v5:amd64 (1.20-2) ...\n",
            "Selecting previously unselected package libleveldb-dev:amd64.\n",
            "Preparing to unpack .../2-libleveldb-dev_1.20-2_amd64.deb ...\n",
            "Unpacking libleveldb-dev:amd64 (1.20-2) ...\n",
            "Selecting previously unselected package libprotobuf-lite10:amd64.\n",
            "Preparing to unpack .../3-libprotobuf-lite10_3.0.0-9.1ubuntu1_amd64.deb ...\n",
            "Unpacking libprotobuf-lite10:amd64 (3.0.0-9.1ubuntu1) ...\n",
            "Selecting previously unselected package libprotobuf-dev:amd64.\n",
            "Preparing to unpack .../4-libprotobuf-dev_3.0.0-9.1ubuntu1_amd64.deb ...\n",
            "Unpacking libprotobuf-dev:amd64 (3.0.0-9.1ubuntu1) ...\n",
            "Selecting previously unselected package libsnappy-dev:amd64.\n",
            "Preparing to unpack .../5-libsnappy-dev_1.1.7-1_amd64.deb ...\n",
            "Unpacking libsnappy-dev:amd64 (1.1.7-1) ...\n",
            "Setting up libleveldb1v5:amd64 (1.20-2) ...\n",
            "Setting up libhdf5-serial-dev (1.10.0-patch1+docs-4) ...\n",
            "Processing triggers for libc-bin (2.27-3ubuntu1) ...\n",
            "Setting up libsnappy-dev:amd64 (1.1.7-1) ...\n",
            "Setting up libprotobuf-lite10:amd64 (3.0.0-9.1ubuntu1) ...\n",
            "Setting up libprotobuf-dev:amd64 (3.0.0-9.1ubuntu1) ...\n",
            "Setting up libleveldb-dev:amd64 (1.20-2) ...\n",
            "Processing triggers for libc-bin (2.27-3ubuntu1) ...\n"
          ],
          "name": "stdout"
        }
      ]
    },
    {
      "cell_type": "code",
      "metadata": {
        "id": "dA5unLorgXQ5",
        "colab_type": "code",
        "outputId": "d4ff7c28-fc29-450a-f813-9400f9bed3aa",
        "colab": {
          "base_uri": "https://localhost:8080/",
          "height": 756
        }
      },
      "source": [
        "##### required\n",
        "!sudo apt install libgoogle-glog-dev"
      ],
      "execution_count": 11,
      "outputs": [
        {
          "output_type": "stream",
          "text": [
            "\rReading package lists... 0%\r\rReading package lists... 0%\r\rReading package lists... 0%\r\rReading package lists... 7%\r\rReading package lists... 7%\r\rReading package lists... 7%\r\rReading package lists... 7%\r\rReading package lists... 68%\r\rReading package lists... 68%\r\rReading package lists... 69%\r\rReading package lists... 69%\r\rReading package lists... 75%\r\rReading package lists... 75%\r\rReading package lists... 75%\r\rReading package lists... 75%\r\rReading package lists... 79%\r\rReading package lists... 84%\r\rReading package lists... 84%\r\rReading package lists... 84%\r\rReading package lists... 84%\r\rReading package lists... 84%\r\rReading package lists... 84%\r\rReading package lists... 84%\r\rReading package lists... 84%\r\rReading package lists... 88%\r\rReading package lists... 88%\r\rReading package lists... 88%\r\rReading package lists... 88%\r\rReading package lists... 93%\r\rReading package lists... 93%\r\rReading package lists... 93%\r\rReading package lists... 93%\r\rReading package lists... 94%\r\rReading package lists... 94%\r\rReading package lists... 94%\r\rReading package lists... 94%\r\rReading package lists... 95%\r\rReading package lists... 95%\r\rReading package lists... 98%\r\rReading package lists... 98%\r\rReading package lists... 98%\r\rReading package lists... 98%\r\rReading package lists... Done\r\n",
            "\rBuilding dependency tree... 0%\r\rBuilding dependency tree... 0%\r\rBuilding dependency tree... 50%\r\rBuilding dependency tree... 50%\r\rBuilding dependency tree       \r\n",
            "\rReading state information... 0%\r\rReading state information... 0%\r\rReading state information... Done\r\n",
            "The following package was automatically installed and is no longer required:\n",
            "  libnvidia-common-410\n",
            "Use 'sudo apt autoremove' to remove it.\n",
            "The following additional packages will be installed:\n",
            "  libgflags-dev libgflags2.2 libgoogle-glog0v5\n",
            "The following NEW packages will be installed:\n",
            "  libgflags-dev libgflags2.2 libgoogle-glog-dev libgoogle-glog0v5\n",
            "0 upgraded, 4 newly installed, 0 to remove and 4 not upgraded.\n",
            "Need to get 283 kB of archives.\n",
            "After this operation, 1,418 kB of additional disk space will be used.\n",
            "\u001b[33m\r0% [Working]\u001b[0m\r            \rGet:1 http://archive.ubuntu.com/ubuntu bionic/universe amd64 libgflags2.2 amd64 2.2.1-1 [72.4 kB]\n",
            "\u001b[33m\r4% [1 libgflags2.2 14.2 kB/72.4 kB 20%]\u001b[0m\u001b[33m\r                                       \r25% [Working]\u001b[0m\r             \rGet:2 http://archive.ubuntu.com/ubuntu bionic/universe amd64 libgflags-dev amd64 2.2.1-1 [86.1 kB]\n",
            "\u001b[33m\r28% [2 libgflags-dev 8,406 B/86.1 kB 10%]\u001b[0m\u001b[33m\r                                         \r55% [Waiting for headers]\u001b[0m\r                         \rGet:3 http://archive.ubuntu.com/ubuntu bionic/universe amd64 libgoogle-glog0v5 amd64 0.3.5-1 [50.5 kB]\n",
            "\u001b[33m\r55% [3 libgoogle-glog0v5 243 B/50.5 kB 0%]\u001b[0m\u001b[33m\r                                          \r74% [Waiting for headers]\u001b[0m\r                         \rGet:4 http://archive.ubuntu.com/ubuntu bionic/universe amd64 libgoogle-glog-dev amd64 0.3.5-1 [73.8 kB]\n",
            "\u001b[33m\r76% [4 libgoogle-glog-dev 5,937 B/73.8 kB 8%]\u001b[0m\u001b[33m\r                                             \r100% [Working]\u001b[0m\r              \rFetched 283 kB in 0s (3,222 kB/s)\n",
            "debconf: unable to initialize frontend: Dialog\n",
            "debconf: (No usable dialog-like program is installed, so the dialog based frontend cannot be used. at /usr/share/perl5/Debconf/FrontEnd/Dialog.pm line 76, <> line 4.)\n",
            "debconf: falling back to frontend: Readline\n",
            "debconf: unable to initialize frontend: Readline\n",
            "debconf: (This frontend requires a controlling tty.)\n",
            "debconf: falling back to frontend: Teletype\n",
            "dpkg-preconfigure: unable to re-open stdin: \n",
            "Selecting previously unselected package libgflags2.2.\n",
            "(Reading database ... 131460 files and directories currently installed.)\n",
            "Preparing to unpack .../libgflags2.2_2.2.1-1_amd64.deb ...\n",
            "Unpacking libgflags2.2 (2.2.1-1) ...\n",
            "Selecting previously unselected package libgflags-dev.\n",
            "Preparing to unpack .../libgflags-dev_2.2.1-1_amd64.deb ...\n",
            "Unpacking libgflags-dev (2.2.1-1) ...\n",
            "Selecting previously unselected package libgoogle-glog0v5.\n",
            "Preparing to unpack .../libgoogle-glog0v5_0.3.5-1_amd64.deb ...\n",
            "Unpacking libgoogle-glog0v5 (0.3.5-1) ...\n",
            "Selecting previously unselected package libgoogle-glog-dev.\n",
            "Preparing to unpack .../libgoogle-glog-dev_0.3.5-1_amd64.deb ...\n",
            "Unpacking libgoogle-glog-dev (0.3.5-1) ...\n",
            "Setting up libgflags2.2 (2.2.1-1) ...\n",
            "Setting up libgflags-dev (2.2.1-1) ...\n",
            "Processing triggers for libc-bin (2.27-3ubuntu1) ...\n",
            "Setting up libgoogle-glog0v5 (0.3.5-1) ...\n",
            "Setting up libgoogle-glog-dev (0.3.5-1) ...\n",
            "Processing triggers for libc-bin (2.27-3ubuntu1) ...\n"
          ],
          "name": "stdout"
        }
      ]
    },
    {
      "cell_type": "code",
      "metadata": {
        "id": "u1vllw1knfdc",
        "colab_type": "code",
        "outputId": "94984849-396c-4119-9b48-d3b3c3a8ca91",
        "colab": {
          "base_uri": "https://localhost:8080/",
          "height": 34
        }
      },
      "source": [
        "cd /content/drive/My\\ Drive/C3D/C3D-v1.0"
      ],
      "execution_count": 12,
      "outputs": [
        {
          "output_type": "stream",
          "text": [
            "/content/drive/My Drive/C3D/C3D-v1.0\n"
          ],
          "name": "stdout"
        }
      ]
    },
    {
      "cell_type": "code",
      "metadata": {
        "id": "qG4DBRAhBWLj",
        "colab_type": "code",
        "colab": {
          "base_uri": "https://localhost:8080/",
          "height": 34
        },
        "outputId": "c41ef7e4-9d18-467d-dd91-569b0bbb10f4"
      },
      "source": [
        "!sudo make -j 32 #this will build caffe file.\n",
        "#If any error occurs google it out.\n",
        "#It is important to build all files before extacting video features."
      ],
      "execution_count": 26,
      "outputs": [
        {
          "output_type": "stream",
          "text": [
            "make: Nothing to be done for 'all'.\n"
          ],
          "name": "stdout"
        }
      ]
    },
    {
      "cell_type": "markdown",
      "metadata": {
        "id": "2KukmtbmrUOI",
        "colab_type": "text"
      },
      "source": [
        "**Setup input video file.**"
      ]
    },
    {
      "cell_type": "code",
      "metadata": {
        "id": "Z3voxrmTmyUN",
        "colab_type": "code",
        "outputId": "33c7d0f5-e24f-44c8-bea7-aa95e8242980",
        "colab": {
          "base_uri": "https://localhost:8080/",
          "height": 34
        }
      },
      "source": [
        "cd /content"
      ],
      "execution_count": 44,
      "outputs": [
        {
          "output_type": "stream",
          "text": [
            "/content\n"
          ],
          "name": "stdout"
        }
      ]
    },
    {
      "cell_type": "code",
      "metadata": {
        "id": "nWPgQSN6qH8A",
        "colab_type": "code",
        "colab": {}
      },
      "source": [
        "#Add video file at \"/content\"\n",
        "#OR One can use wget to download file."
      ],
      "execution_count": 0,
      "outputs": []
    },
    {
      "cell_type": "code",
      "metadata": {
        "id": "7LemXPIum2Rq",
        "colab_type": "code",
        "outputId": "a1126004-54c5-4f17-e2dd-0b3f094cb0b7",
        "colab": {
          "base_uri": "https://localhost:8080/",
          "height": 269
        }
      },
      "source": [
        "#optional\n",
        "!wget -c https://drive.google.com/open?id=1IESbUlBUBBDo2noOoYUqcPFnGlPMsIuN"
      ],
      "execution_count": 16,
      "outputs": [
        {
          "output_type": "stream",
          "text": [
            "--2019-08-16 13:28:25--  https://drive.google.com/open?id=1IESbUlBUBBDo2noOoYUqcPFnGlPMsIuN\n",
            "Resolving drive.google.com (drive.google.com)... 108.177.126.100, 108.177.126.102, 108.177.126.138, ...\n",
            "Connecting to drive.google.com (drive.google.com)|108.177.126.100|:443... connected.\n",
            "HTTP request sent, awaiting response... 307 OK\n",
            "Location: https://drive.google.com/file/d/1IESbUlBUBBDo2noOoYUqcPFnGlPMsIuN/view?usp=drive_open [following]\n",
            "--2019-08-16 13:28:25--  https://drive.google.com/file/d/1IESbUlBUBBDo2noOoYUqcPFnGlPMsIuN/view?usp=drive_open\n",
            "Reusing existing connection to drive.google.com:443.\n",
            "HTTP request sent, awaiting response... 200 OK\n",
            "Length: unspecified [text/html]\n",
            "Saving to: ‘open?id=1IESbUlBUBBDo2noOoYUqcPFnGlPMsIuN’\n",
            "\n",
            "\r          open?id=1     [<=>                 ]       0  --.-KB/s               \ropen?id=1IESbUlBUBB     [ <=>                ] 123.74K  --.-KB/s    in 0.1s    \n",
            "\n",
            "2019-08-16 13:28:26 (1.10 MB/s) - ‘open?id=1IESbUlBUBBDo2noOoYUqcPFnGlPMsIuN’ saved [126709]\n",
            "\n"
          ],
          "name": "stdout"
        }
      ]
    },
    {
      "cell_type": "code",
      "metadata": {
        "id": "nFdE6dSdoXVS",
        "colab_type": "code",
        "outputId": "1f38da4d-feac-4e2a-ae84-ba9e2cb89961",
        "colab": {
          "base_uri": "https://localhost:8080/",
          "height": 286
        }
      },
      "source": [
        "ls"
      ],
      "execution_count": 70,
      "outputs": [
        {
          "output_type": "stream",
          "text": [
            " c3d_sport1m_feature_extraction_frm.sh\n",
            " c3d_sport1m_feature_extraction_video.sh\n",
            " \u001b[0m\u001b[01;34mcd\u001b[0m/\n",
            " conv3d_deepnetA_sport1m_iter_1900000\n",
            "'conv3d_deepnetA_sport1m_iter_1900000?dl=0'\n",
            "'conv3d_deepnetA_sport1m_iter_1900000?dl=0.1'\n",
            "'conv3d_deepnetA_sport1m_iter_1900000?dl=0.2'\n",
            "'extract_C3D_feature (1).py'\n",
            " extract_C3D_feature_example.sh\n",
            " fb_train16_128_mean.binaryproto\n",
            " \u001b[01;34minput\u001b[0m/\n",
            " \u001b[01;34moutput\u001b[0m/\n",
            " \u001b[01;34mprototxt\u001b[0m/\n",
            " readme.md\n",
            " \u001b[01;34mscript\u001b[0m/\n",
            " sport1m_train16_128_mean.binaryproto\n"
          ],
          "name": "stdout"
        }
      ]
    },
    {
      "cell_type": "code",
      "metadata": {
        "id": "iwlPGB5DoUIR",
        "colab_type": "code",
        "colab": {
          "base_uri": "https://localhost:8080/",
          "height": 289
        },
        "outputId": "98bb35d4-311c-48b1-dd24-b35cc48a7993"
      },
      "source": [
        "#optional\n",
        "!wget -c https://www.dropbox.com/sh/75v5ehq4cdg5g5g/AABvnJSwZI7zXb8_myBA0CLHa?dl=0&preview=Anomaly-Videos-Part-2.zip"
      ],
      "execution_count": 48,
      "outputs": [
        {
          "output_type": "stream",
          "text": [
            "--2019-08-16 13:48:10--  https://www.dropbox.com/sh/75v5ehq4cdg5g5g/AABvnJSwZI7zXb8_myBA0CLHa?dl=0\n",
            "Resolving www.dropbox.com (www.dropbox.com)... 162.125.65.1, 2620:100:6021:1::a27d:4101\n",
            "Connecting to www.dropbox.com (www.dropbox.com)|162.125.65.1|:443... connected.\n",
            "HTTP request sent, awaiting response... 301 Moved Permanently\n",
            "Location: /sh/raw/75v5ehq4cdg5g5g/AABvnJSwZI7zXb8_myBA0CLHa [following]\n",
            "--2019-08-16 13:48:10--  https://www.dropbox.com/sh/raw/75v5ehq4cdg5g5g/AABvnJSwZI7zXb8_myBA0CLHa\n",
            "Reusing existing connection to www.dropbox.com:443.\n",
            "HTTP request sent, awaiting response... 302 Found\n",
            "Location: https://uc9a119d40e41a86162e099ad18f.dl.dropboxusercontent.com/zip_by_token_key?key=AmtlcyyUol71qLtIRjiCDESVc0wBHMDSU8iva2r1m7mHF2I5l85JcpggQpAXmES2SO24zkSwQeNTXSrV_krr2-qFNYhMVcTd28RvksvuVz6ASVMjpZ9cTG_Cmf6KIdlN4MKXNWfzQmMcUDJQ0zcKvCRBMtzr1TJWUNekpQ9NSlDQr3mnnvhaJ7BQvsQ5u8maDtftPjpVREaaR0U2En9tQvzFaAclw6swi16vTesdCoQddmxzNwEG7Zl0DszJi5PKdWwgyHs_2BpYx7PU16YobEVH [following]\n",
            "--2019-08-16 13:48:10--  https://uc9a119d40e41a86162e099ad18f.dl.dropboxusercontent.com/zip_by_token_key?key=AmtlcyyUol71qLtIRjiCDESVc0wBHMDSU8iva2r1m7mHF2I5l85JcpggQpAXmES2SO24zkSwQeNTXSrV_krr2-qFNYhMVcTd28RvksvuVz6ASVMjpZ9cTG_Cmf6KIdlN4MKXNWfzQmMcUDJQ0zcKvCRBMtzr1TJWUNekpQ9NSlDQr3mnnvhaJ7BQvsQ5u8maDtftPjpVREaaR0U2En9tQvzFaAclw6swi16vTesdCoQddmxzNwEG7Zl0DszJi5PKdWwgyHs_2BpYx7PU16YobEVH\n",
            "Resolving uc9a119d40e41a86162e099ad18f.dl.dropboxusercontent.com (uc9a119d40e41a86162e099ad18f.dl.dropboxusercontent.com)... 162.125.65.6, 2620:100:6021:6::a27d:4106\n",
            "Connecting to uc9a119d40e41a86162e099ad18f.dl.dropboxusercontent.com (uc9a119d40e41a86162e099ad18f.dl.dropboxusercontent.com)|162.125.65.6|:443... connected.\n",
            "HTTP request sent, awaiting response... 400 Bad Request\n",
            "2019-08-16 13:48:12 ERROR 400: Bad Request.\n",
            "\n"
          ],
          "name": "stdout"
        }
      ]
    },
    {
      "cell_type": "markdown",
      "metadata": {
        "id": "0wmoy08fr7t1",
        "colab_type": "text"
      },
      "source": [
        "**Start feature extraction process.**"
      ]
    },
    {
      "cell_type": "code",
      "metadata": {
        "id": "NSv7Pi9kXQRS",
        "colab_type": "code",
        "outputId": "c9619fa7-9899-46ce-e040-fa793db573d2",
        "colab": {
          "base_uri": "https://localhost:8080/",
          "height": 34
        }
      },
      "source": [
        "cd /content/drive/My\\ Drive/C3D/C3D-v1.0/examples/c3d_feature_extraction/"
      ],
      "execution_count": 69,
      "outputs": [
        {
          "output_type": "stream",
          "text": [
            "/content/drive/My Drive/C3D/C3D-v1.0/examples/c3d_feature_extraction\n"
          ],
          "name": "stdout"
        }
      ]
    },
    {
      "cell_type": "code",
      "metadata": {
        "id": "AthzjyOQstWv",
        "colab_type": "code",
        "colab": {}
      },
      "source": [
        "!sudo chmod 777 /content/drive/My\\ Drive/C3D/C3D-v1.0/build/tools/extract_image_features.bin"
      ],
      "execution_count": 0,
      "outputs": []
    },
    {
      "cell_type": "code",
      "metadata": {
        "id": "toIj6Ontssm4",
        "colab_type": "code",
        "colab": {
          "base_uri": "https://localhost:8080/",
          "height": 541
        },
        "outputId": "70959f7c-0b39-4ba2-bd03-553704ec44b2"
      },
      "source": [
        "!wget conv3d_deepnetA_sport1m_iter_1900000 https://www.dropbox.com/s/vr8ckp0pxgbldhs/conv3d_deepnetA_sport1m_iter_1900000?dl=0"
      ],
      "execution_count": 36,
      "outputs": [
        {
          "output_type": "stream",
          "text": [
            "--2019-08-16 13:40:00--  http://conv3d_deepneta_sport1m_iter_1900000/\n",
            "Resolving conv3d_deepneta_sport1m_iter_1900000 (conv3d_deepneta_sport1m_iter_1900000)... failed: Name or service not known.\n",
            "wget: unable to resolve host address ‘conv3d_deepneta_sport1m_iter_1900000’\n",
            "--2019-08-16 13:40:00--  https://www.dropbox.com/s/vr8ckp0pxgbldhs/conv3d_deepnetA_sport1m_iter_1900000?dl=0\n",
            "Resolving www.dropbox.com (www.dropbox.com)... 162.125.65.1, 2620:100:6021:1::a27d:4101\n",
            "Connecting to www.dropbox.com (www.dropbox.com)|162.125.65.1|:443... connected.\n",
            "HTTP request sent, awaiting response... 301 Moved Permanently\n",
            "Location: /s/raw/vr8ckp0pxgbldhs/conv3d_deepnetA_sport1m_iter_1900000 [following]\n",
            "--2019-08-16 13:40:01--  https://www.dropbox.com/s/raw/vr8ckp0pxgbldhs/conv3d_deepnetA_sport1m_iter_1900000\n",
            "Reusing existing connection to www.dropbox.com:443.\n",
            "HTTP request sent, awaiting response... 302 Found\n",
            "Location: https://uce1bd8eeac4b17ffbbc69b53e81.dl.dropboxusercontent.com/cd/0/inline/AmvhATIk31D6g0lCLwjTtV12z1txwxm8bqbTmNkd_fYhZnIPOFyKB7tbnzDN72FkX-1Bd_xGu5OOVlFEle2lT8tFBBjtmem8ykg-DnzW7esD8g/file# [following]\n",
            "--2019-08-16 13:40:01--  https://uce1bd8eeac4b17ffbbc69b53e81.dl.dropboxusercontent.com/cd/0/inline/AmvhATIk31D6g0lCLwjTtV12z1txwxm8bqbTmNkd_fYhZnIPOFyKB7tbnzDN72FkX-1Bd_xGu5OOVlFEle2lT8tFBBjtmem8ykg-DnzW7esD8g/file\n",
            "Resolving uce1bd8eeac4b17ffbbc69b53e81.dl.dropboxusercontent.com (uce1bd8eeac4b17ffbbc69b53e81.dl.dropboxusercontent.com)... 162.125.65.6, 2620:100:6021:6::a27d:4106\n",
            "Connecting to uce1bd8eeac4b17ffbbc69b53e81.dl.dropboxusercontent.com (uce1bd8eeac4b17ffbbc69b53e81.dl.dropboxusercontent.com)|162.125.65.6|:443... connected.\n",
            "HTTP request sent, awaiting response... 302 FOUND\n",
            "Location: /cd/0/inline2/AmuKyglpYqzlbOw1_MOsxOivwoojrv9pLBwciEvY5d1mFN2oMeScVBVO0N8fHRhAUk8QSgif1BkPitPSWMpwUr9E5cK3SWWi1VV_GiHW1gS2cvPhUdK4sP1jwWBCCufvi2Cu_deto8oP3RvRYbaT5urfuFG1TilnMS-SIDfBPLpSwU1s3g6x1HwKhXHWZNCBkg4tWlkS4NJtXXp0gcuQ8_hrP6Q-AYeLS9Jfbm6yB6K15XlYO3eI30Zi9SL_M2kYBXj-YmALwJ1NK_svzECwW4jHbT264tKHHbWRfDvlqMqXQk5uf4b-DYMP1JF8g1BiUZoVrO1J6frqA0DibRuXvA7b/file [following]\n",
            "--2019-08-16 13:40:02--  https://uce1bd8eeac4b17ffbbc69b53e81.dl.dropboxusercontent.com/cd/0/inline2/AmuKyglpYqzlbOw1_MOsxOivwoojrv9pLBwciEvY5d1mFN2oMeScVBVO0N8fHRhAUk8QSgif1BkPitPSWMpwUr9E5cK3SWWi1VV_GiHW1gS2cvPhUdK4sP1jwWBCCufvi2Cu_deto8oP3RvRYbaT5urfuFG1TilnMS-SIDfBPLpSwU1s3g6x1HwKhXHWZNCBkg4tWlkS4NJtXXp0gcuQ8_hrP6Q-AYeLS9Jfbm6yB6K15XlYO3eI30Zi9SL_M2kYBXj-YmALwJ1NK_svzECwW4jHbT264tKHHbWRfDvlqMqXQk5uf4b-DYMP1JF8g1BiUZoVrO1J6frqA0DibRuXvA7b/file\n",
            "Reusing existing connection to uce1bd8eeac4b17ffbbc69b53e81.dl.dropboxusercontent.com:443.\n",
            "HTTP request sent, awaiting response... 200 OK\n",
            "Length: 319966293 (305M) [application/octet-stream]\n",
            "Saving to: ‘conv3d_deepnetA_sport1m_iter_1900000?dl=0.2’\n",
            "\n",
            "conv3d_deepnetA_spo 100%[===================>] 305.14M  40.4MB/s    in 8.7s    \n",
            "\n",
            "2019-08-16 13:40:12 (34.9 MB/s) - ‘conv3d_deepnetA_sport1m_iter_1900000?dl=0.2’ saved [319966293/319966293]\n",
            "\n",
            "FINISHED --2019-08-16 13:40:12--\n",
            "Total wall clock time: 11s\n",
            "Downloaded: 1 files, 305M in 8.7s (34.9 MB/s)\n"
          ],
          "name": "stdout"
        }
      ]
    },
    {
      "cell_type": "code",
      "metadata": {
        "id": "62rcW4lcsZRv",
        "colab_type": "code",
        "outputId": "e20a9b80-705f-4564-c420-8b742a43fc11",
        "colab": {
          "base_uri": "https://localhost:8080/",
          "height": 168
        }
      },
      "source": [
        "#Test everything work properly.\n",
        "!sh c3d_sport1m_feature_extraction_video.sh"
      ],
      "execution_count": 37,
      "outputs": [
        {
          "output_type": "stream",
          "text": [
            "WARNING: Logging before InitGoogleLogging() is written to STDERR\n",
            "E0816 13:40:20.581651  1619 extract_image_features.cpp:64] Using GPU #0\n",
            "I0816 13:40:20.584121  1619 net.cpp:76] Creating Layer data\n",
            "I0816 13:40:20.584143  1619 net.cpp:112] data -> data\n",
            "I0816 13:40:20.584206  1619 net.cpp:112] data -> label\n",
            "I0816 13:40:20.584559  1619 video_data_layer.cpp:283] Opening file prototxt/input_list_video.txt\n",
            "I0816 13:40:20.584882  1619 video_data_layer.cpp:308] failed to read chunk list\n",
            "I0816 13:40:20.584902  1619 video_data_layer.cpp:317] A total of 0 video chunks.\n",
            "Segmentation fault (core dumped)\n"
          ],
          "name": "stdout"
        }
      ]
    },
    {
      "cell_type": "code",
      "metadata": {
        "id": "JItD49ixnmgx",
        "colab_type": "code",
        "colab": {
          "base_uri": "https://localhost:8080/",
          "height": 34
        },
        "outputId": "c6b5995f-1916-4d3a-9778-84f16986263d"
      },
      "source": [
        "cd /content/drive/My Drive/input\n"
      ],
      "execution_count": 62,
      "outputs": [
        {
          "output_type": "stream",
          "text": [
            "/content/drive/My Drive/input\n"
          ],
          "name": "stdout"
        }
      ]
    },
    {
      "cell_type": "code",
      "metadata": {
        "id": "4iyshBXULFFH",
        "colab_type": "code",
        "colab": {
          "base_uri": "https://localhost:8080/",
          "height": 1000
        },
        "outputId": "01c2d730-e3e8-4985-91fa-447e947e1a96"
      },
      "source": [
        "# Video feature script to extract video.\n",
        "# Edit script according to your required config of file extraction.\n",
        "!sudo python 'extract_C3D_feature (1).py'"
      ],
      "execution_count": 71,
      "outputs": [
        {
          "output_type": "stream",
          "text": [
            "[Info] trained_model={} found. Good to go!\n",
            "width = 320.0\n",
            "height = 240.0\n",
            "[Info] num_frames=6775, fps=30.0\n",
            "[Info] Running C3D feature extraction: \"/content/drive/My Drive/C3D/C3D-v1.0/build/tools/extract_image_features.bin /content/test2/feature_extraction.prototxt /content/drive/My Drive/C3D/C3D-v1.0/examples/c3d_feature_extraction/conv3d_deepnetA_sport1m_iter_1900000 0 50 9999999 /content/test2/output_prefix.txt fc6-1\"\n",
            "WARNING: Logging before InitGoogleLogging() is written to STDERR\n",
            "E0816 14:07:11.317369  2882 extract_image_features.cpp:64] Using GPU #0\n",
            "I0816 14:07:11.318996  2882 net.cpp:76] Creating Layer data\n",
            "I0816 14:07:11.319017  2882 net.cpp:112] data -> data\n",
            "I0816 14:07:11.319088  2882 net.cpp:112] data -> label\n",
            "I0816 14:07:11.319314  2882 video_data_layer.cpp:283] Opening file /content/test2/input.txt\n",
            "I0816 14:07:11.319761  2882 video_data_layer.cpp:317] A total of 423 video chunks.\n",
            "I0816 14:07:11.319777  2882 video_data_layer.cpp:344] read video from /content/test2//\n",
            "I0816 14:07:11.455337  2882 video_data_layer.cpp:365] output data size: 50,3,16,112,112\n",
            "I0816 14:07:11.455374  2882 video_data_layer.cpp:387] Loading mean file from sport1m_train16_128_mean.binaryproto\n",
            "I0816 14:07:11.475430  2882 net.cpp:127] Top shape: 50 3 16 112 112 (30105600)\n",
            "I0816 14:07:11.475459  2882 net.cpp:127] Top shape: 50 1 1 1 1 (50)\n",
            "I0816 14:07:11.475471  2882 net.cpp:159] data does not need backward computation.\n",
            "I0816 14:07:11.475486  2882 net.cpp:76] Creating Layer conv1a\n",
            "I0816 14:07:11.475497  2882 net.cpp:86] conv1a <- data\n",
            "I0816 14:07:11.475508  2882 net.cpp:112] conv1a -> conv1a\n",
            "I0816 14:07:11.478085  2882 net.cpp:127] Top shape: 50 64 16 112 112 (642252800)\n",
            "I0816 14:07:11.478116  2882 net.cpp:154] conv1a needs backward computation.\n",
            "I0816 14:07:11.478130  2882 net.cpp:76] Creating Layer relu1a\n",
            "I0816 14:07:11.478140  2882 net.cpp:86] relu1a <- conv1a\n",
            "I0816 14:07:11.478152  2882 net.cpp:100] relu1a -> conv1a (in-place)\n",
            "I0816 14:07:11.478415  2882 net.cpp:127] Top shape: 50 64 16 112 112 (642252800)\n",
            "I0816 14:07:11.478437  2882 net.cpp:154] relu1a needs backward computation.\n",
            "I0816 14:07:11.478451  2882 net.cpp:76] Creating Layer pool1\n",
            "I0816 14:07:11.478461  2882 net.cpp:86] pool1 <- conv1a\n",
            "I0816 14:07:11.478471  2882 net.cpp:112] pool1 -> pool1\n",
            "I0816 14:07:11.478482  2882 net.cpp:127] Top shape: 50 64 16 56 56 (160563200)\n",
            "I0816 14:07:11.478492  2882 net.cpp:154] pool1 needs backward computation.\n",
            "I0816 14:07:11.478504  2882 net.cpp:76] Creating Layer conv2a\n",
            "I0816 14:07:11.478513  2882 net.cpp:86] conv2a <- pool1\n",
            "I0816 14:07:11.478523  2882 net.cpp:112] conv2a -> conv2a\n",
            "I0816 14:07:11.482147  2882 net.cpp:127] Top shape: 50 128 16 56 56 (321126400)\n",
            "I0816 14:07:11.482174  2882 net.cpp:154] conv2a needs backward computation.\n",
            "I0816 14:07:11.482187  2882 net.cpp:76] Creating Layer relu2a\n",
            "I0816 14:07:11.482195  2882 net.cpp:86] relu2a <- conv2a\n",
            "I0816 14:07:11.482204  2882 net.cpp:100] relu2a -> conv2a (in-place)\n",
            "I0816 14:07:11.482214  2882 net.cpp:127] Top shape: 50 128 16 56 56 (321126400)\n",
            "I0816 14:07:11.482224  2882 net.cpp:154] relu2a needs backward computation.\n",
            "I0816 14:07:11.482234  2882 net.cpp:76] Creating Layer pool2\n",
            "I0816 14:07:11.482242  2882 net.cpp:86] pool2 <- conv2a\n",
            "I0816 14:07:11.482251  2882 net.cpp:112] pool2 -> pool2\n",
            "I0816 14:07:11.482261  2882 net.cpp:127] Top shape: 50 128 8 28 28 (40140800)\n",
            "I0816 14:07:11.482270  2882 net.cpp:154] pool2 needs backward computation.\n",
            "I0816 14:07:11.482280  2882 net.cpp:76] Creating Layer conv3a\n",
            "I0816 14:07:11.482290  2882 net.cpp:86] conv3a <- pool2\n",
            "I0816 14:07:11.482297  2882 net.cpp:112] conv3a -> conv3a\n",
            "I0816 14:07:11.496671  2882 net.cpp:127] Top shape: 50 256 8 28 28 (80281600)\n",
            "I0816 14:07:11.496698  2882 net.cpp:154] conv3a needs backward computation.\n",
            "I0816 14:07:11.496711  2882 net.cpp:76] Creating Layer relu3a\n",
            "I0816 14:07:11.496721  2882 net.cpp:86] relu3a <- conv3a\n",
            "I0816 14:07:11.496731  2882 net.cpp:100] relu3a -> conv3a (in-place)\n",
            "I0816 14:07:11.496742  2882 net.cpp:127] Top shape: 50 256 8 28 28 (80281600)\n",
            "I0816 14:07:11.496750  2882 net.cpp:154] relu3a needs backward computation.\n",
            "I0816 14:07:11.496762  2882 net.cpp:76] Creating Layer conv3b\n",
            "I0816 14:07:11.496770  2882 net.cpp:86] conv3b <- conv3a\n",
            "I0816 14:07:11.496779  2882 net.cpp:112] conv3b -> conv3b\n",
            "I0816 14:07:11.525708  2882 net.cpp:127] Top shape: 50 256 8 28 28 (80281600)\n",
            "I0816 14:07:11.525737  2882 net.cpp:154] conv3b needs backward computation.\n",
            "I0816 14:07:11.525749  2882 net.cpp:76] Creating Layer relu3b\n",
            "I0816 14:07:11.525759  2882 net.cpp:86] relu3b <- conv3b\n",
            "I0816 14:07:11.525770  2882 net.cpp:100] relu3b -> conv3b (in-place)\n",
            "I0816 14:07:11.525780  2882 net.cpp:127] Top shape: 50 256 8 28 28 (80281600)\n",
            "I0816 14:07:11.525790  2882 net.cpp:154] relu3b needs backward computation.\n",
            "I0816 14:07:11.525800  2882 net.cpp:76] Creating Layer pool3\n",
            "I0816 14:07:11.525810  2882 net.cpp:86] pool3 <- conv3b\n",
            "I0816 14:07:11.525818  2882 net.cpp:112] pool3 -> pool3\n",
            "I0816 14:07:11.525830  2882 net.cpp:127] Top shape: 50 256 4 14 14 (10035200)\n",
            "I0816 14:07:11.525840  2882 net.cpp:154] pool3 needs backward computation.\n",
            "I0816 14:07:11.525851  2882 net.cpp:76] Creating Layer conv4a\n",
            "I0816 14:07:11.525859  2882 net.cpp:86] conv4a <- pool3\n",
            "I0816 14:07:11.525868  2882 net.cpp:112] conv4a -> conv4a\n",
            "I0816 14:07:11.600543  2882 net.cpp:127] Top shape: 50 512 4 14 14 (20070400)\n",
            "I0816 14:07:11.600601  2882 net.cpp:154] conv4a needs backward computation.\n",
            "I0816 14:07:11.600617  2882 net.cpp:76] Creating Layer relu4a\n",
            "I0816 14:07:11.600627  2882 net.cpp:86] relu4a <- conv4a\n",
            "I0816 14:07:11.600639  2882 net.cpp:100] relu4a -> conv4a (in-place)\n",
            "I0816 14:07:11.600651  2882 net.cpp:127] Top shape: 50 512 4 14 14 (20070400)\n",
            "I0816 14:07:11.600661  2882 net.cpp:154] relu4a needs backward computation.\n",
            "I0816 14:07:11.600672  2882 net.cpp:76] Creating Layer conv4b\n",
            "I0816 14:07:11.600682  2882 net.cpp:86] conv4b <- conv4a\n",
            "I0816 14:07:11.600692  2882 net.cpp:112] conv4b -> conv4b\n",
            "I0816 14:07:11.732287  2882 net.cpp:127] Top shape: 50 512 4 14 14 (20070400)\n",
            "I0816 14:07:11.732329  2882 net.cpp:154] conv4b needs backward computation.\n",
            "I0816 14:07:11.732344  2882 net.cpp:76] Creating Layer relu4b\n",
            "I0816 14:07:11.732354  2882 net.cpp:86] relu4b <- conv4b\n",
            "I0816 14:07:11.732365  2882 net.cpp:100] relu4b -> conv4b (in-place)\n",
            "I0816 14:07:11.732378  2882 net.cpp:127] Top shape: 50 512 4 14 14 (20070400)\n",
            "I0816 14:07:11.732386  2882 net.cpp:154] relu4b needs backward computation.\n",
            "I0816 14:07:11.732398  2882 net.cpp:76] Creating Layer pool4\n",
            "I0816 14:07:11.732406  2882 net.cpp:86] pool4 <- conv4b\n",
            "I0816 14:07:11.732415  2882 net.cpp:112] pool4 -> pool4\n",
            "I0816 14:07:11.732426  2882 net.cpp:127] Top shape: 50 512 2 7 7 (2508800)\n",
            "I0816 14:07:11.732436  2882 net.cpp:154] pool4 needs backward computation.\n",
            "I0816 14:07:11.732446  2882 net.cpp:76] Creating Layer conv5a\n",
            "I0816 14:07:11.732455  2882 net.cpp:86] conv5a <- pool4\n",
            "I0816 14:07:11.732463  2882 net.cpp:112] conv5a -> conv5a\n",
            "I0816 14:07:11.862514  2882 net.cpp:127] Top shape: 50 512 2 7 7 (2508800)\n",
            "I0816 14:07:11.862558  2882 net.cpp:154] conv5a needs backward computation.\n",
            "I0816 14:07:11.862592  2882 net.cpp:76] Creating Layer relu5a\n",
            "I0816 14:07:11.862604  2882 net.cpp:86] relu5a <- conv5a\n",
            "I0816 14:07:11.862617  2882 net.cpp:100] relu5a -> conv5a (in-place)\n",
            "I0816 14:07:11.862628  2882 net.cpp:127] Top shape: 50 512 2 7 7 (2508800)\n",
            "I0816 14:07:11.862638  2882 net.cpp:154] relu5a needs backward computation.\n",
            "I0816 14:07:11.862653  2882 net.cpp:76] Creating Layer conv5b\n",
            "I0816 14:07:11.862663  2882 net.cpp:86] conv5b <- conv5a\n",
            "I0816 14:07:11.862671  2882 net.cpp:112] conv5b -> conv5b\n",
            "I0816 14:07:11.997689  2882 net.cpp:127] Top shape: 50 512 2 7 7 (2508800)\n",
            "I0816 14:07:11.997733  2882 net.cpp:154] conv5b needs backward computation.\n",
            "I0816 14:07:11.997750  2882 net.cpp:76] Creating Layer relu5b\n",
            "I0816 14:07:11.997759  2882 net.cpp:86] relu5b <- conv5b\n",
            "I0816 14:07:11.997771  2882 net.cpp:100] relu5b -> conv5b (in-place)\n",
            "I0816 14:07:11.997782  2882 net.cpp:127] Top shape: 50 512 2 7 7 (2508800)\n",
            "I0816 14:07:11.997792  2882 net.cpp:154] relu5b needs backward computation.\n",
            "I0816 14:07:11.997803  2882 net.cpp:76] Creating Layer pool5\n",
            "I0816 14:07:11.997814  2882 net.cpp:86] pool5 <- conv5b\n",
            "I0816 14:07:11.997829  2882 net.cpp:112] pool5 -> pool5\n",
            "I0816 14:07:11.997848  2882 net.cpp:127] Top shape: 50 512 1 4 4 (409600)\n",
            "I0816 14:07:11.997862  2882 net.cpp:154] pool5 needs backward computation.\n",
            "I0816 14:07:11.997880  2882 net.cpp:76] Creating Layer fc6-1\n",
            "I0816 14:07:11.997895  2882 net.cpp:86] fc6-1 <- pool5\n",
            "I0816 14:07:11.997910  2882 net.cpp:112] fc6-1 -> fc6-1\n",
            "I0816 14:07:12.652424  2882 net.cpp:127] Top shape: 50 4096 1 1 1 (204800)\n",
            "I0816 14:07:12.652467  2882 net.cpp:154] fc6-1 needs backward computation.\n",
            "I0816 14:07:12.652488  2882 net.cpp:76] Creating Layer relu6\n",
            "I0816 14:07:12.652498  2882 net.cpp:86] relu6 <- fc6-1\n",
            "I0816 14:07:12.652508  2882 net.cpp:100] relu6 -> fc6-1 (in-place)\n",
            "I0816 14:07:12.652518  2882 net.cpp:127] Top shape: 50 4096 1 1 1 (204800)\n",
            "I0816 14:07:12.652526  2882 net.cpp:154] relu6 needs backward computation.\n",
            "I0816 14:07:12.652537  2882 net.cpp:76] Creating Layer drop6\n",
            "I0816 14:07:12.652545  2882 net.cpp:86] drop6 <- fc6-1\n",
            "I0816 14:07:12.652554  2882 net.cpp:100] drop6 -> fc6-1 (in-place)\n",
            "I0816 14:07:12.652563  2882 net.cpp:127] Top shape: 50 4096 1 1 1 (204800)\n",
            "I0816 14:07:12.652570  2882 net.cpp:154] drop6 needs backward computation.\n",
            "I0816 14:07:12.652601  2882 net.cpp:76] Creating Layer fc7-1\n",
            "I0816 14:07:12.652608  2882 net.cpp:86] fc7-1 <- fc6-1\n",
            "I0816 14:07:12.652616  2882 net.cpp:112] fc7-1 -> fc7-1\n",
            "I0816 14:07:12.956488  2882 net.cpp:127] Top shape: 50 4096 1 1 1 (204800)\n",
            "I0816 14:07:12.956535  2882 net.cpp:154] fc7-1 needs backward computation.\n",
            "I0816 14:07:12.956552  2882 net.cpp:76] Creating Layer relu7\n",
            "I0816 14:07:12.956562  2882 net.cpp:86] relu7 <- fc7-1\n",
            "I0816 14:07:12.956585  2882 net.cpp:100] relu7 -> fc7-1 (in-place)\n",
            "I0816 14:07:12.956596  2882 net.cpp:127] Top shape: 50 4096 1 1 1 (204800)\n",
            "I0816 14:07:12.956605  2882 net.cpp:154] relu7 needs backward computation.\n",
            "I0816 14:07:12.956616  2882 net.cpp:76] Creating Layer drop7\n",
            "I0816 14:07:12.956624  2882 net.cpp:86] drop7 <- fc7-1\n",
            "I0816 14:07:12.956634  2882 net.cpp:100] drop7 -> fc7-1 (in-place)\n",
            "I0816 14:07:12.956643  2882 net.cpp:127] Top shape: 50 4096 1 1 1 (204800)\n",
            "I0816 14:07:12.956651  2882 net.cpp:154] drop7 needs backward computation.\n",
            "I0816 14:07:12.956663  2882 net.cpp:76] Creating Layer fc8-1\n",
            "I0816 14:07:12.956671  2882 net.cpp:86] fc8-1 <- fc7-1\n",
            "I0816 14:07:12.956681  2882 net.cpp:112] fc8-1 -> fc8-1\n",
            "I0816 14:07:12.982992  2882 net.cpp:127] Top shape: 50 487 1 1 1 (24350)\n",
            "I0816 14:07:12.983027  2882 net.cpp:154] fc8-1 needs backward computation.\n",
            "I0816 14:07:12.983038  2882 net.cpp:76] Creating Layer prob\n",
            "I0816 14:07:12.983047  2882 net.cpp:86] prob <- fc8-1\n",
            "I0816 14:07:12.983057  2882 net.cpp:112] prob -> prob\n",
            "I0816 14:07:12.983068  2882 net.cpp:127] Top shape: 50 487 1 1 1 (24350)\n",
            "I0816 14:07:12.983078  2882 net.cpp:154] prob needs backward computation.\n",
            "I0816 14:07:12.983091  2882 net.cpp:76] Creating Layer accuracy\n",
            "I0816 14:07:12.983100  2882 net.cpp:86] accuracy <- prob\n",
            "I0816 14:07:12.983108  2882 net.cpp:86] accuracy <- label\n",
            "I0816 14:07:12.983115  2882 net.cpp:112] accuracy -> accuracy\n",
            "I0816 14:07:12.983122  2882 net.cpp:127] Top shape: 1 2 1 1 1 (2)\n",
            "I0816 14:07:12.983129  2882 net.cpp:154] accuracy needs backward computation.\n",
            "I0816 14:07:12.983134  2882 net.cpp:165] This network produces output accuracy\n",
            "I0816 14:07:12.983152  2882 net.cpp:183] Collecting Learning Rate and Weight Decay.\n",
            "I0816 14:07:12.983170  2882 net.cpp:176] Network initialization done.\n",
            "I0816 14:07:12.983177  2882 net.cpp:177] Memory required for Data 5653289408\n",
            "E0816 14:07:13.836504  2882 extract_image_features.cpp:81] Extracting features for 9999999 batches\n",
            "E0816 14:07:15.191706  2882 extract_image_features.cpp:117] Extracted features of 50 images.\n",
            "E0816 14:07:26.852202  2882 extract_image_features.cpp:121] Successfully extracted 423 features!\n",
            "C3D ran successfully\n",
            "[Info] Saving output as \n",
            "0\n"
          ],
          "name": "stdout"
        }
      ]
    },
    {
      "cell_type": "code",
      "metadata": {
        "id": "TNDR7a2hmlPL",
        "colab_type": "code",
        "colab": {
          "base_uri": "https://localhost:8080/",
          "height": 128
        },
        "outputId": "e035ff0e-8572-4d42-bca6-eab4bc32ef0e"
      },
      "source": [
        "sudo python extract_C3D_feature.py Arson053_x264.mp4 cd /content/drive/My\\ Drive/C3D/C3D-v1.0/examples/"
      ],
      "execution_count": 42,
      "outputs": [
        {
          "output_type": "error",
          "ename": "SyntaxError",
          "evalue": "ignored",
          "traceback": [
            "\u001b[0;36m  File \u001b[0;32m\"<ipython-input-42-2d789dda158a>\"\u001b[0;36m, line \u001b[0;32m1\u001b[0m\n\u001b[0;31m    sudo python extract_C3D_feature.py Arson053_x264.mp4 cd /content/drive/My\\ Drive/C3D/C3D-v1.0/examples/\u001b[0m\n\u001b[0m              ^\u001b[0m\n\u001b[0;31mSyntaxError\u001b[0m\u001b[0;31m:\u001b[0m invalid syntax\n"
          ]
        }
      ]
    },
    {
      "cell_type": "code",
      "metadata": {
        "id": "GvjWFoZnoBeW",
        "colab_type": "code",
        "colab": {}
      },
      "source": [
        "#output .txt feature file is save at \"/content/drive/My\\ Drive/C3D/C3D-v1.0/examples/c3d_feature_extraction/out/\""
      ],
      "execution_count": 0,
      "outputs": []
    }
  ]
}